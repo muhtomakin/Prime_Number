{
 "cells": [
  {
   "cell_type": "code",
   "execution_count": null,
   "id": "bfd2eda9",
   "metadata": {},
   "outputs": [],
   "source": [
    "def primeNumber(number):\n",
    "    if number > 1:\n",
    "        for i in range(2,number):\n",
    "            if number%i==0:\n",
    "                return print(\"{} is not a prime number.\".format(number))      \n",
    "    return print(\"{} is a prime number.\".format(number))\n",
    "                \n",
    "    \n",
    "number = int(input(\"Please enter a number: \"))\n",
    "primeNumber(number)"
   ]
  }
 ],
 "metadata": {
  "kernelspec": {
   "display_name": "Python 3",
   "language": "python",
   "name": "python3"
  },
  "language_info": {
   "codemirror_mode": {
    "name": "ipython",
    "version": 3
   },
   "file_extension": ".py",
   "mimetype": "text/x-python",
   "name": "python",
   "nbconvert_exporter": "python",
   "pygments_lexer": "ipython3",
   "version": "3.8.8"
  }
 },
 "nbformat": 4,
 "nbformat_minor": 5
}
